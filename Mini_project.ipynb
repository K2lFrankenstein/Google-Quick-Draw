{
 "cells": [
  {
   "cell_type": "markdown",
   "metadata": {
    "id": "4818vVtxEV-G",
    "jp-MarkdownHeadingCollapsed": true
   },
   "source": [
    "# Specifying the requirement packages with versions necessary for the model."
   ]
  },
  {
   "cell_type": "code",
   "execution_count": 1,
   "metadata": {
    "colab": {
     "base_uri": "https://localhost:8080/"
    },
    "id": "y27er2VwwolU",
    "outputId": "915b6830-7763-4afa-8474-0f3a635aa1fe"
   },
   "outputs": [
    {
     "name": "stdout",
     "output_type": "stream",
     "text": [
      "Looking in indexes: https://pypi.org/simple, https://pypi.ngc.nvidia.com\n",
      "Collecting numpy\n",
      "  Downloading numpy-1.26.4-cp310-cp310-win_amd64.whl (15.8 MB)\n",
      "     ---------------------------------------- 15.8/15.8 MB 3.0 MB/s eta 0:00:00\n",
      "Installing collected packages: numpy\n",
      "Successfully installed numpy-1.26.4\n"
     ]
    },
    {
     "name": "stderr",
     "output_type": "stream",
     "text": [
      "WARNING: You are using pip version 22.0.4; however, version 24.0 is available.\n",
      "You should consider upgrading via the 'D:\\psudo_desktop\\Master\\Sem 1\\Google-Quick-Draw\\run\\Scripts\\python.exe -m pip install --upgrade pip' command.\n"
     ]
    },
    {
     "name": "stdout",
     "output_type": "stream",
     "text": [
      "Looking in indexes: https://pypi.org/simple, https://pypi.ngc.nvidia.com\n",
      "Collecting scipy\n",
      "  Downloading scipy-1.13.0-cp310-cp310-win_amd64.whl (46.2 MB)\n",
      "     ---------------------------------------- 46.2/46.2 MB 2.7 MB/s eta 0:00:00\n",
      "Requirement already satisfied: numpy<2.3,>=1.22.4 in d:\\psudo_desktop\\master\\sem 1\\google-quick-draw\\run\\lib\\site-packages (from scipy) (1.26.4)\n",
      "Installing collected packages: scipy\n",
      "Successfully installed scipy-1.13.0\n"
     ]
    },
    {
     "name": "stderr",
     "output_type": "stream",
     "text": [
      "WARNING: You are using pip version 22.0.4; however, version 24.0 is available.\n",
      "You should consider upgrading via the 'D:\\psudo_desktop\\Master\\Sem 1\\Google-Quick-Draw\\run\\Scripts\\python.exe -m pip install --upgrade pip' command.\n"
     ]
    },
    {
     "name": "stdout",
     "output_type": "stream",
     "text": [
      "Looking in indexes: https://pypi.org/simple, https://pypi.ngc.nvidia.com\n",
      "Collecting pandas\n",
      "  Downloading pandas-2.2.2-cp310-cp310-win_amd64.whl (11.6 MB)\n",
      "     ---------------------------------------- 11.6/11.6 MB 1.8 MB/s eta 0:00:00\n",
      "Collecting python-dateutil>=2.8.2\n",
      "  Downloading python_dateutil-2.9.0.post0-py2.py3-none-any.whl (229 kB)\n",
      "     -------------------------------------- 229.9/229.9 KB 3.5 MB/s eta 0:00:00\n",
      "Requirement already satisfied: numpy>=1.22.4 in d:\\psudo_desktop\\master\\sem 1\\google-quick-draw\\run\\lib\\site-packages (from pandas) (1.26.4)\n",
      "Collecting tzdata>=2022.7\n",
      "  Downloading tzdata-2024.1-py2.py3-none-any.whl (345 kB)\n",
      "     -------------------------------------- 345.4/345.4 KB 4.3 MB/s eta 0:00:00\n",
      "Collecting pytz>=2020.1\n",
      "  Downloading pytz-2024.1-py2.py3-none-any.whl (505 kB)\n",
      "     -------------------------------------- 505.5/505.5 KB 4.5 MB/s eta 0:00:00\n",
      "Collecting six>=1.5\n",
      "  Downloading six-1.16.0-py2.py3-none-any.whl (11 kB)\n",
      "Installing collected packages: pytz, tzdata, six, python-dateutil, pandas\n",
      "Successfully installed pandas-2.2.2 python-dateutil-2.9.0.post0 pytz-2024.1 six-1.16.0 tzdata-2024.1\n"
     ]
    },
    {
     "name": "stderr",
     "output_type": "stream",
     "text": [
      "WARNING: You are using pip version 22.0.4; however, version 24.0 is available.\n",
      "You should consider upgrading via the 'D:\\psudo_desktop\\Master\\Sem 1\\Google-Quick-Draw\\run\\Scripts\\python.exe -m pip install --upgrade pip' command.\n"
     ]
    },
    {
     "name": "stdout",
     "output_type": "stream",
     "text": [
      "Looking in indexes: https://pypi.org/simple, https://pypi.ngc.nvidia.com\n",
      "Collecting scikit-learn\n",
      "  Downloading scikit_learn-1.4.2-cp310-cp310-win_amd64.whl (10.6 MB)\n",
      "     ---------------------------------------- 10.6/10.6 MB 3.1 MB/s eta 0:00:00\n",
      "Requirement already satisfied: scipy>=1.6.0 in d:\\psudo_desktop\\master\\sem 1\\google-quick-draw\\run\\lib\\site-packages (from scikit-learn) (1.13.0)\n",
      "Collecting joblib>=1.2.0\n",
      "  Downloading joblib-1.4.2-py3-none-any.whl (301 kB)\n",
      "     -------------------------------------- 301.8/301.8 KB 4.7 MB/s eta 0:00:00\n",
      "Requirement already satisfied: numpy>=1.19.5 in d:\\psudo_desktop\\master\\sem 1\\google-quick-draw\\run\\lib\\site-packages (from scikit-learn) (1.26.4)\n",
      "Collecting threadpoolctl>=2.0.0\n",
      "  Downloading threadpoolctl-3.5.0-py3-none-any.whl (18 kB)\n",
      "Installing collected packages: threadpoolctl, joblib, scikit-learn\n",
      "Successfully installed joblib-1.4.2 scikit-learn-1.4.2 threadpoolctl-3.5.0\n"
     ]
    },
    {
     "name": "stderr",
     "output_type": "stream",
     "text": [
      "WARNING: You are using pip version 22.0.4; however, version 24.0 is available.\n",
      "You should consider upgrading via the 'D:\\psudo_desktop\\Master\\Sem 1\\Google-Quick-Draw\\run\\Scripts\\python.exe -m pip install --upgrade pip' command.\n"
     ]
    },
    {
     "name": "stdout",
     "output_type": "stream",
     "text": [
      "Looking in indexes: https://pypi.org/simple, https://pypi.ngc.nvidia.com\n",
      "Collecting tensorflow\n",
      "  Downloading tensorflow-2.16.1-cp310-cp310-win_amd64.whl (2.1 kB)\n",
      "Collecting tensorflow-intel==2.16.1\n",
      "  Downloading tensorflow_intel-2.16.1-cp310-cp310-win_amd64.whl (376.9 MB)\n",
      "     -------------------------------------- 376.9/376.9 MB 1.6 MB/s eta 0:00:00\n",
      "Collecting gast!=0.5.0,!=0.5.1,!=0.5.2,>=0.2.1\n",
      "  Downloading gast-0.5.4-py3-none-any.whl (19 kB)\n",
      "Collecting wrapt>=1.11.0\n",
      "  Downloading wrapt-1.16.0-cp310-cp310-win_amd64.whl (37 kB)\n",
      "Collecting termcolor>=1.1.0\n",
      "  Downloading termcolor-2.4.0-py3-none-any.whl (7.7 kB)\n",
      "Collecting flatbuffers>=23.5.26\n",
      "  Downloading flatbuffers-24.3.25-py2.py3-none-any.whl (26 kB)\n",
      "Collecting libclang>=13.0.0\n",
      "  Downloading libclang-18.1.1-py2.py3-none-win_amd64.whl (26.4 MB)\n",
      "     ---------------------------------------- 26.4/26.4 MB 1.8 MB/s eta 0:00:00\n",
      "Collecting requests<3,>=2.21.0\n",
      "  Downloading requests-2.32.1-py3-none-any.whl (63 kB)\n",
      "     ---------------------------------------- 63.7/63.7 KB 3.3 MB/s eta 0:00:00\n",
      "Collecting typing-extensions>=3.6.6\n",
      "  Downloading typing_extensions-4.11.0-py3-none-any.whl (34 kB)\n",
      "Requirement already satisfied: six>=1.12.0 in d:\\psudo_desktop\\master\\sem 1\\google-quick-draw\\run\\lib\\site-packages (from tensorflow-intel==2.16.1->tensorflow) (1.16.0)\n",
      "Requirement already satisfied: numpy<2.0.0,>=1.23.5 in d:\\psudo_desktop\\master\\sem 1\\google-quick-draw\\run\\lib\\site-packages (from tensorflow-intel==2.16.1->tensorflow) (1.26.4)\n",
      "Collecting grpcio<2.0,>=1.24.3\n",
      "  Downloading grpcio-1.64.0-cp310-cp310-win_amd64.whl (4.1 MB)\n",
      "     ---------------------------------------- 4.1/4.1 MB 3.5 MB/s eta 0:00:00\n",
      "Collecting tensorflow-io-gcs-filesystem>=0.23.1\n",
      "  Downloading tensorflow_io_gcs_filesystem-0.31.0-cp310-cp310-win_amd64.whl (1.5 MB)\n",
      "     ---------------------------------------- 1.5/1.5 MB 5.5 MB/s eta 0:00:00\n",
      "Collecting packaging\n",
      "  Downloading packaging-24.0-py3-none-any.whl (53 kB)\n",
      "     ---------------------------------------- 53.5/53.5 KB ? eta 0:00:00\n",
      "Collecting tensorboard<2.17,>=2.16\n",
      "  Downloading tensorboard-2.16.2-py3-none-any.whl (5.5 MB)\n",
      "     ---------------------------------------- 5.5/5.5 MB 3.4 MB/s eta 0:00:00\n",
      "Collecting keras>=3.0.0\n",
      "  Downloading keras-3.3.3-py3-none-any.whl (1.1 MB)\n",
      "     ---------------------------------------- 1.1/1.1 MB 803.2 kB/s eta 0:00:00\n",
      "Collecting ml-dtypes~=0.3.1\n",
      "  Downloading ml_dtypes-0.3.2-cp310-cp310-win_amd64.whl (127 kB)\n",
      "     -------------------------------------- 127.8/127.8 KB 1.9 MB/s eta 0:00:00\n",
      "Collecting protobuf!=4.21.0,!=4.21.1,!=4.21.2,!=4.21.3,!=4.21.4,!=4.21.5,<5.0.0dev,>=3.20.3\n",
      "  Downloading protobuf-4.25.3-cp310-abi3-win_amd64.whl (413 kB)\n",
      "     -------------------------------------- 413.4/413.4 KB 2.3 MB/s eta 0:00:00\n",
      "Requirement already satisfied: setuptools in d:\\psudo_desktop\\master\\sem 1\\google-quick-draw\\run\\lib\\site-packages (from tensorflow-intel==2.16.1->tensorflow) (58.1.0)\n",
      "Collecting absl-py>=1.0.0\n",
      "  Downloading absl_py-2.1.0-py3-none-any.whl (133 kB)\n",
      "     -------------------------------------- 133.7/133.7 KB 2.6 MB/s eta 0:00:00\n",
      "Collecting google-pasta>=0.1.1\n",
      "  Downloading google_pasta-0.2.0-py3-none-any.whl (57 kB)\n",
      "     ---------------------------------------- 57.5/57.5 KB 3.1 MB/s eta 0:00:00\n",
      "Collecting h5py>=3.10.0\n",
      "  Downloading h5py-3.11.0-cp310-cp310-win_amd64.whl (3.0 MB)\n",
      "     ---------------------------------------- 3.0/3.0 MB 3.9 MB/s eta 0:00:00\n",
      "Collecting opt-einsum>=2.3.2\n",
      "  Downloading opt_einsum-3.3.0-py3-none-any.whl (65 kB)\n",
      "     ---------------------------------------- 65.5/65.5 KB ? eta 0:00:00\n",
      "Collecting astunparse>=1.6.0\n",
      "  Downloading astunparse-1.6.3-py2.py3-none-any.whl (12 kB)\n",
      "Collecting wheel<1.0,>=0.23.0\n",
      "  Downloading wheel-0.43.0-py3-none-any.whl (65 kB)\n",
      "     ---------------------------------------- 65.8/65.8 KB 3.7 MB/s eta 0:00:00\n",
      "Collecting namex\n",
      "  Downloading namex-0.0.8-py3-none-any.whl (5.8 kB)\n",
      "Collecting optree\n",
      "  Downloading optree-0.11.0-cp310-cp310-win_amd64.whl (243 kB)\n",
      "     -------------------------------------- 243.8/243.8 KB 5.0 MB/s eta 0:00:00\n",
      "Collecting rich\n",
      "  Downloading rich-13.7.1-py3-none-any.whl (240 kB)\n",
      "     -------------------------------------- 240.7/240.7 KB 4.9 MB/s eta 0:00:00\n",
      "Collecting urllib3<3,>=1.21.1\n",
      "  Downloading urllib3-2.2.1-py3-none-any.whl (121 kB)\n",
      "     -------------------------------------- 121.1/121.1 KB 7.4 MB/s eta 0:00:00\n",
      "Collecting idna<4,>=2.5\n",
      "  Downloading idna-3.7-py3-none-any.whl (66 kB)\n",
      "     ---------------------------------------- 66.8/66.8 KB ? eta 0:00:00\n",
      "Collecting certifi>=2017.4.17\n",
      "  Downloading certifi-2024.2.2-py3-none-any.whl (163 kB)\n",
      "     -------------------------------------- 163.8/163.8 KB 9.6 MB/s eta 0:00:00\n",
      "Collecting charset-normalizer<4,>=2\n",
      "  Downloading charset_normalizer-3.3.2-cp310-cp310-win_amd64.whl (100 kB)\n",
      "     -------------------------------------- 100.3/100.3 KB 5.6 MB/s eta 0:00:00\n",
      "Collecting werkzeug>=1.0.1\n",
      "  Downloading werkzeug-3.0.3-py3-none-any.whl (227 kB)\n",
      "     -------------------------------------- 227.3/227.3 KB 7.0 MB/s eta 0:00:00\n",
      "Collecting tensorboard-data-server<0.8.0,>=0.7.0\n",
      "  Downloading tensorboard_data_server-0.7.2-py3-none-any.whl (2.4 kB)\n",
      "Collecting markdown>=2.6.8\n",
      "  Downloading Markdown-3.6-py3-none-any.whl (105 kB)\n",
      "     -------------------------------------- 105.4/105.4 KB 5.9 MB/s eta 0:00:00\n",
      "Collecting MarkupSafe>=2.1.1\n",
      "  Downloading MarkupSafe-2.1.5-cp310-cp310-win_amd64.whl (17 kB)\n",
      "Collecting markdown-it-py>=2.2.0\n",
      "  Downloading markdown_it_py-3.0.0-py3-none-any.whl (87 kB)\n",
      "     ---------------------------------------- 87.5/87.5 KB 4.8 MB/s eta 0:00:00\n",
      "Collecting pygments<3.0.0,>=2.13.0\n",
      "  Downloading pygments-2.18.0-py3-none-any.whl (1.2 MB)\n",
      "     ---------------------------------------- 1.2/1.2 MB 5.9 MB/s eta 0:00:00\n",
      "Collecting mdurl~=0.1\n",
      "  Downloading mdurl-0.1.2-py3-none-any.whl (10.0 kB)\n",
      "Installing collected packages: namex, libclang, flatbuffers, wrapt, wheel, urllib3, typing-extensions, termcolor, tensorflow-io-gcs-filesystem, tensorboard-data-server, pygments, protobuf, packaging, opt-einsum, ml-dtypes, mdurl, MarkupSafe, markdown, idna, h5py, grpcio, google-pasta, gast, charset-normalizer, certifi, absl-py, werkzeug, requests, optree, markdown-it-py, astunparse, tensorboard, rich, keras, tensorflow-intel, tensorflow\n",
      "Successfully installed MarkupSafe-2.1.5 absl-py-2.1.0 astunparse-1.6.3 certifi-2024.2.2 charset-normalizer-3.3.2 flatbuffers-24.3.25 gast-0.5.4 google-pasta-0.2.0 grpcio-1.64.0 h5py-3.11.0 idna-3.7 keras-3.3.3 libclang-18.1.1 markdown-3.6 markdown-it-py-3.0.0 mdurl-0.1.2 ml-dtypes-0.3.2 namex-0.0.8 opt-einsum-3.3.0 optree-0.11.0 packaging-24.0 protobuf-4.25.3 pygments-2.18.0 requests-2.32.1 rich-13.7.1 tensorboard-2.16.2 tensorboard-data-server-0.7.2 tensorflow-2.16.1 tensorflow-intel-2.16.1 tensorflow-io-gcs-filesystem-0.31.0 termcolor-2.4.0 typing-extensions-4.11.0 urllib3-2.2.1 werkzeug-3.0.3 wheel-0.43.0 wrapt-1.16.0\n"
     ]
    },
    {
     "name": "stderr",
     "output_type": "stream",
     "text": [
      "WARNING: You are using pip version 22.0.4; however, version 24.0 is available.\n",
      "You should consider upgrading via the 'D:\\psudo_desktop\\Master\\Sem 1\\Google-Quick-Draw\\run\\Scripts\\python.exe -m pip install --upgrade pip' command.\n"
     ]
    },
    {
     "name": "stdout",
     "output_type": "stream",
     "text": [
      "Looking in indexes: https://pypi.org/simple, https://pypi.ngc.nvidia.com\n",
      "Requirement already satisfied: h5py in d:\\psudo_desktop\\master\\sem 1\\google-quick-draw\\run\\lib\\site-packages (3.11.0)\n",
      "Requirement already satisfied: numpy>=1.17.3 in d:\\psudo_desktop\\master\\sem 1\\google-quick-draw\\run\\lib\\site-packages (from h5py) (1.26.4)\n"
     ]
    },
    {
     "name": "stderr",
     "output_type": "stream",
     "text": [
      "WARNING: You are using pip version 22.0.4; however, version 24.0 is available.\n",
      "You should consider upgrading via the 'D:\\psudo_desktop\\Master\\Sem 1\\Google-Quick-Draw\\run\\Scripts\\python.exe -m pip install --upgrade pip' command.\n"
     ]
    },
    {
     "name": "stdout",
     "output_type": "stream",
     "text": [
      "Looking in indexes: https://pypi.org/simple, https://pypi.ngc.nvidia.com\n",
      "Collecting torch\n",
      "  Downloading torch-2.3.0-cp310-cp310-win_amd64.whl (159.8 MB)\n",
      "     -------------------------------------- 159.8/159.8 MB 2.0 MB/s eta 0:00:00\n",
      "Requirement already satisfied: typing-extensions>=4.8.0 in d:\\psudo_desktop\\master\\sem 1\\google-quick-draw\\run\\lib\\site-packages (from torch) (4.11.0)\n",
      "Collecting filelock\n",
      "  Downloading filelock-3.14.0-py3-none-any.whl (12 kB)\n",
      "Collecting networkx\n",
      "  Downloading networkx-3.3-py3-none-any.whl (1.7 MB)\n",
      "     ---------------------------------------- 1.7/1.7 MB 1.8 MB/s eta 0:00:00\n",
      "Collecting jinja2\n",
      "  Downloading jinja2-3.1.4-py3-none-any.whl (133 kB)\n",
      "     -------------------------------------- 133.3/133.3 KB 2.6 MB/s eta 0:00:00\n",
      "Collecting mkl<=2021.4.0,>=2021.1.1\n",
      "  Downloading mkl-2021.4.0-py2.py3-none-win_amd64.whl (228.5 MB)\n",
      "     -------------------------------------- 228.5/228.5 MB 3.1 MB/s eta 0:00:00\n",
      "Collecting sympy\n",
      "  Downloading sympy-1.12-py3-none-any.whl (5.7 MB)\n",
      "     ---------------------------------------- 5.7/5.7 MB 2.4 MB/s eta 0:00:00\n",
      "Collecting fsspec\n",
      "  Downloading fsspec-2024.5.0-py3-none-any.whl (316 kB)\n",
      "     -------------------------------------- 316.1/316.1 KB 1.6 MB/s eta 0:00:00\n",
      "Collecting tbb==2021.*\n",
      "  Downloading tbb-2021.12.0-py3-none-win_amd64.whl (286 kB)\n",
      "     -------------------------------------- 286.4/286.4 KB 2.0 MB/s eta 0:00:00\n",
      "Collecting intel-openmp==2021.*\n",
      "  Downloading intel_openmp-2021.4.0-py2.py3-none-win_amd64.whl (3.5 MB)\n",
      "     ---------------------------------------- 3.5/3.5 MB 2.3 MB/s eta 0:00:00\n",
      "Requirement already satisfied: MarkupSafe>=2.0 in d:\\psudo_desktop\\master\\sem 1\\google-quick-draw\\run\\lib\\site-packages (from jinja2->torch) (2.1.5)\n",
      "Collecting mpmath>=0.19\n",
      "  Downloading mpmath-1.3.0-py3-none-any.whl (536 kB)\n",
      "     -------------------------------------- 536.2/536.2 KB 5.6 MB/s eta 0:00:00\n",
      "Installing collected packages: tbb, mpmath, intel-openmp, sympy, networkx, mkl, jinja2, fsspec, filelock, torch\n",
      "Successfully installed filelock-3.14.0 fsspec-2024.5.0 intel-openmp-2021.4.0 jinja2-3.1.4 mkl-2021.4.0 mpmath-1.3.0 networkx-3.3 sympy-1.12 tbb-2021.12.0 torch-2.3.0\n"
     ]
    },
    {
     "name": "stderr",
     "output_type": "stream",
     "text": [
      "WARNING: You are using pip version 22.0.4; however, version 24.0 is available.\n",
      "You should consider upgrading via the 'D:\\psudo_desktop\\Master\\Sem 1\\Google-Quick-Draw\\run\\Scripts\\python.exe -m pip install --upgrade pip' command.\n"
     ]
    },
    {
     "name": "stdout",
     "output_type": "stream",
     "text": [
      "Looking in indexes: https://pypi.org/simple, https://pypi.ngc.nvidia.com\n",
      "Collecting pickle5\n",
      "  Downloading pickle5-0.0.11.tar.gz (132 kB)\n",
      "     -------------------------------------- 132.1/132.1 KB 3.9 MB/s eta 0:00:00\n",
      "  Preparing metadata (setup.py): started\n",
      "  Preparing metadata (setup.py): finished with status 'done'\n",
      "Building wheels for collected packages: pickle5\n",
      "  Building wheel for pickle5 (setup.py): started\n",
      "  Building wheel for pickle5 (setup.py): finished with status 'error'\n",
      "  Running setup.py clean for pickle5\n",
      "Failed to build pickle5\n",
      "Installing collected packages: pickle5\n",
      "  Running setup.py install for pickle5: started\n",
      "  Running setup.py install for pickle5: finished with status 'error'\n"
     ]
    },
    {
     "name": "stderr",
     "output_type": "stream",
     "text": [
      "  error: subprocess-exited-with-error\n",
      "  \n",
      "  python setup.py bdist_wheel did not run successfully.\n",
      "  exit code: 1\n",
      "  \n",
      "  [36 lines of output]\n",
      "  running bdist_wheel\n",
      "  running build\n",
      "  running build_py\n",
      "  creating build\n",
      "  creating build\\lib.win-amd64-3.10\n",
      "  creating build\\lib.win-amd64-3.10\\pickle5\n",
      "  copying pickle5\\pickle.py -> build\\lib.win-amd64-3.10\\pickle5\n",
      "  copying pickle5\\pickletools.py -> build\\lib.win-amd64-3.10\\pickle5\n",
      "  copying pickle5\\__init__.py -> build\\lib.win-amd64-3.10\\pickle5\n",
      "  creating build\\lib.win-amd64-3.10\\pickle5\\test\n",
      "  copying pickle5\\test\\pickletester.py -> build\\lib.win-amd64-3.10\\pickle5\\test\n",
      "  copying pickle5\\test\\test_pickle.py -> build\\lib.win-amd64-3.10\\pickle5\\test\n",
      "  copying pickle5\\test\\test_picklebuffer.py -> build\\lib.win-amd64-3.10\\pickle5\\test\n",
      "  copying pickle5\\test\\__init__.py -> build\\lib.win-amd64-3.10\\pickle5\\test\n",
      "  running build_ext\n",
      "  building 'pickle5._pickle' extension\n",
      "  creating build\\temp.win-amd64-3.10\n",
      "  creating build\\temp.win-amd64-3.10\\Release\n",
      "  creating build\\temp.win-amd64-3.10\\Release\\pickle5\n",
      "  C:\\Program Files\\Microsoft Visual Studio\\2022\\Community\\VC\\Tools\\MSVC\\14.37.32822\\bin\\HostX86\\x64\\cl.exe /c /nologo /Ox /W3 /GL /DNDEBUG /MD -ID:\\psudo_desktop\\Master\\Sem 1\\Google-Quick-Draw\\run\\include -IC:\\Users\\k2lea\\AppData\\Local\\Programs\\Python\\Python310\\include -IC:\\Users\\k2lea\\AppData\\Local\\Programs\\Python\\Python310\\Include -IC:\\Program Files\\Microsoft Visual Studio\\2022\\Community\\VC\\Tools\\MSVC\\14.37.32822\\include -IC:\\Program Files\\Microsoft Visual Studio\\2022\\Community\\VC\\Auxiliary\\VS\\include -IC:\\Program Files (x86)\\Windows Kits\\10\\include\\10.0.22621.0\\ucrt -IC:\\Program Files (x86)\\Windows Kits\\10\\\\include\\10.0.22621.0\\\\um -IC:\\Program Files (x86)\\Windows Kits\\10\\\\include\\10.0.22621.0\\\\shared -IC:\\Program Files (x86)\\Windows Kits\\10\\\\include\\10.0.22621.0\\\\winrt -IC:\\Program Files (x86)\\Windows Kits\\10\\\\include\\10.0.22621.0\\\\cppwinrt -IC:\\Program Files (x86)\\Windows Kits\\NETFXSDK\\4.8\\include\\um /Tcpickle5/_pickle.c /Fobuild\\temp.win-amd64-3.10\\Release\\pickle5/_pickle.obj\n",
      "  _pickle.c\n",
      "  C:\\Program Files\\Microsoft Visual Studio\\2022\\Community\\VC\\Tools\\MSVC\\14.37.32822\\bin\\HostX86\\x64\\cl.exe /c /nologo /Ox /W3 /GL /DNDEBUG /MD -ID:\\psudo_desktop\\Master\\Sem 1\\Google-Quick-Draw\\run\\include -IC:\\Users\\k2lea\\AppData\\Local\\Programs\\Python\\Python310\\include -IC:\\Users\\k2lea\\AppData\\Local\\Programs\\Python\\Python310\\Include -IC:\\Program Files\\Microsoft Visual Studio\\2022\\Community\\VC\\Tools\\MSVC\\14.37.32822\\include -IC:\\Program Files\\Microsoft Visual Studio\\2022\\Community\\VC\\Auxiliary\\VS\\include -IC:\\Program Files (x86)\\Windows Kits\\10\\include\\10.0.22621.0\\ucrt -IC:\\Program Files (x86)\\Windows Kits\\10\\\\include\\10.0.22621.0\\\\um -IC:\\Program Files (x86)\\Windows Kits\\10\\\\include\\10.0.22621.0\\\\shared -IC:\\Program Files (x86)\\Windows Kits\\10\\\\include\\10.0.22621.0\\\\winrt -IC:\\Program Files (x86)\\Windows Kits\\10\\\\include\\10.0.22621.0\\\\cppwinrt -IC:\\Program Files (x86)\\Windows Kits\\NETFXSDK\\4.8\\include\\um /Tcpickle5/picklebufobject.c /Fobuild\\temp.win-amd64-3.10\\Release\\pickle5/picklebufobject.obj\n",
      "  picklebufobject.c\n",
      "  pickle5/picklebufobject.c(19): warning C4273: 'PyPickleBuffer_FromObject': inconsistent dll linkage\n",
      "  C:\\Users\\k2lea\\AppData\\Local\\Programs\\Python\\Python310\\include\\cpython/picklebufobject.h(18): note: see previous definition of 'PyPickleBuffer_FromObject'\n",
      "  pickle5/picklebufobject.c(38): warning C4273: 'PyPickleBuffer_GetBuffer': inconsistent dll linkage\n",
      "  C:\\Users\\k2lea\\AppData\\Local\\Programs\\Python\\Python310\\include\\cpython/picklebufobject.h(22): note: see previous definition of 'PyPickleBuffer_GetBuffer'\n",
      "  pickle5/picklebufobject.c(57): warning C4273: 'PyPickleBuffer_Release': inconsistent dll linkage\n",
      "  C:\\Users\\k2lea\\AppData\\Local\\Programs\\Python\\Python310\\include\\cpython/picklebufobject.h(24): note: see previous definition of 'PyPickleBuffer_Release'\n",
      "  pickle5/picklebufobject.c(208): warning C4273: 'PyPickleBuffer_Type': inconsistent dll linkage\n",
      "  C:\\Users\\k2lea\\AppData\\Local\\Programs\\Python\\Python310\\include\\cpython/picklebufobject.h(13): note: see previous definition of 'PyPickleBuffer_Type'\n",
      "  C:\\Program Files\\Microsoft Visual Studio\\2022\\Community\\VC\\Tools\\MSVC\\14.37.32822\\bin\\HostX86\\x64\\link.exe /nologo /INCREMENTAL:NO /LTCG /DLL /MANIFEST:EMBED,ID=2 /MANIFESTUAC:NO /LIBPATH:D:\\psudo_desktop\\Master\\Sem 1\\Google-Quick-Draw\\run\\libs /LIBPATH:C:\\Users\\k2lea\\AppData\\Local\\Programs\\Python\\Python310\\libs /LIBPATH:C:\\Users\\k2lea\\AppData\\Local\\Programs\\Python\\Python310 /LIBPATH:D:\\psudo_desktop\\Master\\Sem 1\\Google-Quick-Draw\\run\\PCbuild\\amd64 /LIBPATH:C:\\Program Files\\Microsoft Visual Studio\\2022\\Community\\VC\\Tools\\MSVC\\14.37.32822\\lib\\x64 /LIBPATH:C:\\Program Files (x86)\\Windows Kits\\NETFXSDK\\4.8\\lib\\um\\x64 /LIBPATH:C:\\Program Files (x86)\\Windows Kits\\10\\lib\\10.0.22621.0\\ucrt\\x64 /LIBPATH:C:\\Program Files (x86)\\Windows Kits\\10\\\\lib\\10.0.22621.0\\\\um\\x64 /EXPORT:PyInit__pickle build\\temp.win-amd64-3.10\\Release\\pickle5/_pickle.obj build\\temp.win-amd64-3.10\\Release\\pickle5/picklebufobject.obj /OUT:build\\lib.win-amd64-3.10\\pickle5\\_pickle.cp310-win_amd64.pyd /IMPLIB:build\\temp.win-amd64-3.10\\Release\\pickle5\\_pickle.cp310-win_amd64.lib\n",
      "  python310.lib(python310.dll) : error LNK2005: PyPickleBuffer_GetBuffer already defined in picklebufobject.obj\n",
      "     Creating library build\\temp.win-amd64-3.10\\Release\\pickle5\\_pickle.cp310-win_amd64.lib and object build\\temp.win-amd64-3.10\\Release\\pickle5\\_pickle.cp310-win_amd64.exp\n",
      "  build\\lib.win-amd64-3.10\\pickle5\\_pickle.cp310-win_amd64.pyd : fatal error LNK1169: one or more multiply defined symbols found\n",
      "  error: command 'C:\\\\Program Files\\\\Microsoft Visual Studio\\\\2022\\\\Community\\\\VC\\\\Tools\\\\MSVC\\\\14.37.32822\\\\bin\\\\HostX86\\\\x64\\\\link.exe' failed with exit code 1169\n",
      "  [end of output]\n",
      "  \n",
      "  note: This error originates from a subprocess, and is likely not a problem with pip.\n",
      "  ERROR: Failed building wheel for pickle5\n",
      "  error: subprocess-exited-with-error\n",
      "  \n",
      "  Running setup.py install for pickle5 did not run successfully.\n",
      "  exit code: 1\n",
      "  \n",
      "  [36 lines of output]\n",
      "  running install\n",
      "  running build\n",
      "  running build_py\n",
      "  creating build\n",
      "  creating build\\lib.win-amd64-3.10\n",
      "  creating build\\lib.win-amd64-3.10\\pickle5\n",
      "  copying pickle5\\pickle.py -> build\\lib.win-amd64-3.10\\pickle5\n",
      "  copying pickle5\\pickletools.py -> build\\lib.win-amd64-3.10\\pickle5\n",
      "  copying pickle5\\__init__.py -> build\\lib.win-amd64-3.10\\pickle5\n",
      "  creating build\\lib.win-amd64-3.10\\pickle5\\test\n",
      "  copying pickle5\\test\\pickletester.py -> build\\lib.win-amd64-3.10\\pickle5\\test\n",
      "  copying pickle5\\test\\test_pickle.py -> build\\lib.win-amd64-3.10\\pickle5\\test\n",
      "  copying pickle5\\test\\test_picklebuffer.py -> build\\lib.win-amd64-3.10\\pickle5\\test\n",
      "  copying pickle5\\test\\__init__.py -> build\\lib.win-amd64-3.10\\pickle5\\test\n",
      "  running build_ext\n",
      "  building 'pickle5._pickle' extension\n",
      "  creating build\\temp.win-amd64-3.10\n",
      "  creating build\\temp.win-amd64-3.10\\Release\n",
      "  creating build\\temp.win-amd64-3.10\\Release\\pickle5\n",
      "  C:\\Program Files\\Microsoft Visual Studio\\2022\\Community\\VC\\Tools\\MSVC\\14.37.32822\\bin\\HostX86\\x64\\cl.exe /c /nologo /Ox /W3 /GL /DNDEBUG /MD -ID:\\psudo_desktop\\Master\\Sem 1\\Google-Quick-Draw\\run\\include -IC:\\Users\\k2lea\\AppData\\Local\\Programs\\Python\\Python310\\include -IC:\\Users\\k2lea\\AppData\\Local\\Programs\\Python\\Python310\\Include -IC:\\Program Files\\Microsoft Visual Studio\\2022\\Community\\VC\\Tools\\MSVC\\14.37.32822\\include -IC:\\Program Files\\Microsoft Visual Studio\\2022\\Community\\VC\\Auxiliary\\VS\\include -IC:\\Program Files (x86)\\Windows Kits\\10\\include\\10.0.22621.0\\ucrt -IC:\\Program Files (x86)\\Windows Kits\\10\\\\include\\10.0.22621.0\\\\um -IC:\\Program Files (x86)\\Windows Kits\\10\\\\include\\10.0.22621.0\\\\shared -IC:\\Program Files (x86)\\Windows Kits\\10\\\\include\\10.0.22621.0\\\\winrt -IC:\\Program Files (x86)\\Windows Kits\\10\\\\include\\10.0.22621.0\\\\cppwinrt -IC:\\Program Files (x86)\\Windows Kits\\NETFXSDK\\4.8\\include\\um /Tcpickle5/_pickle.c /Fobuild\\temp.win-amd64-3.10\\Release\\pickle5/_pickle.obj\n",
      "  _pickle.c\n",
      "  C:\\Program Files\\Microsoft Visual Studio\\2022\\Community\\VC\\Tools\\MSVC\\14.37.32822\\bin\\HostX86\\x64\\cl.exe /c /nologo /Ox /W3 /GL /DNDEBUG /MD -ID:\\psudo_desktop\\Master\\Sem 1\\Google-Quick-Draw\\run\\include -IC:\\Users\\k2lea\\AppData\\Local\\Programs\\Python\\Python310\\include -IC:\\Users\\k2lea\\AppData\\Local\\Programs\\Python\\Python310\\Include -IC:\\Program Files\\Microsoft Visual Studio\\2022\\Community\\VC\\Tools\\MSVC\\14.37.32822\\include -IC:\\Program Files\\Microsoft Visual Studio\\2022\\Community\\VC\\Auxiliary\\VS\\include -IC:\\Program Files (x86)\\Windows Kits\\10\\include\\10.0.22621.0\\ucrt -IC:\\Program Files (x86)\\Windows Kits\\10\\\\include\\10.0.22621.0\\\\um -IC:\\Program Files (x86)\\Windows Kits\\10\\\\include\\10.0.22621.0\\\\shared -IC:\\Program Files (x86)\\Windows Kits\\10\\\\include\\10.0.22621.0\\\\winrt -IC:\\Program Files (x86)\\Windows Kits\\10\\\\include\\10.0.22621.0\\\\cppwinrt -IC:\\Program Files (x86)\\Windows Kits\\NETFXSDK\\4.8\\include\\um /Tcpickle5/picklebufobject.c /Fobuild\\temp.win-amd64-3.10\\Release\\pickle5/picklebufobject.obj\n",
      "  picklebufobject.c\n",
      "  pickle5/picklebufobject.c(19): warning C4273: 'PyPickleBuffer_FromObject': inconsistent dll linkage\n",
      "  C:\\Users\\k2lea\\AppData\\Local\\Programs\\Python\\Python310\\include\\cpython/picklebufobject.h(18): note: see previous definition of 'PyPickleBuffer_FromObject'\n",
      "  pickle5/picklebufobject.c(38): warning C4273: 'PyPickleBuffer_GetBuffer': inconsistent dll linkage\n",
      "  C:\\Users\\k2lea\\AppData\\Local\\Programs\\Python\\Python310\\include\\cpython/picklebufobject.h(22): note: see previous definition of 'PyPickleBuffer_GetBuffer'\n",
      "  pickle5/picklebufobject.c(57): warning C4273: 'PyPickleBuffer_Release': inconsistent dll linkage\n",
      "  C:\\Users\\k2lea\\AppData\\Local\\Programs\\Python\\Python310\\include\\cpython/picklebufobject.h(24): note: see previous definition of 'PyPickleBuffer_Release'\n",
      "  pickle5/picklebufobject.c(208): warning C4273: 'PyPickleBuffer_Type': inconsistent dll linkage\n",
      "  C:\\Users\\k2lea\\AppData\\Local\\Programs\\Python\\Python310\\include\\cpython/picklebufobject.h(13): note: see previous definition of 'PyPickleBuffer_Type'\n",
      "  C:\\Program Files\\Microsoft Visual Studio\\2022\\Community\\VC\\Tools\\MSVC\\14.37.32822\\bin\\HostX86\\x64\\link.exe /nologo /INCREMENTAL:NO /LTCG /DLL /MANIFEST:EMBED,ID=2 /MANIFESTUAC:NO /LIBPATH:D:\\psudo_desktop\\Master\\Sem 1\\Google-Quick-Draw\\run\\libs /LIBPATH:C:\\Users\\k2lea\\AppData\\Local\\Programs\\Python\\Python310\\libs /LIBPATH:C:\\Users\\k2lea\\AppData\\Local\\Programs\\Python\\Python310 /LIBPATH:D:\\psudo_desktop\\Master\\Sem 1\\Google-Quick-Draw\\run\\PCbuild\\amd64 /LIBPATH:C:\\Program Files\\Microsoft Visual Studio\\2022\\Community\\VC\\Tools\\MSVC\\14.37.32822\\lib\\x64 /LIBPATH:C:\\Program Files (x86)\\Windows Kits\\NETFXSDK\\4.8\\lib\\um\\x64 /LIBPATH:C:\\Program Files (x86)\\Windows Kits\\10\\lib\\10.0.22621.0\\ucrt\\x64 /LIBPATH:C:\\Program Files (x86)\\Windows Kits\\10\\\\lib\\10.0.22621.0\\\\um\\x64 /EXPORT:PyInit__pickle build\\temp.win-amd64-3.10\\Release\\pickle5/_pickle.obj build\\temp.win-amd64-3.10\\Release\\pickle5/picklebufobject.obj /OUT:build\\lib.win-amd64-3.10\\pickle5\\_pickle.cp310-win_amd64.pyd /IMPLIB:build\\temp.win-amd64-3.10\\Release\\pickle5\\_pickle.cp310-win_amd64.lib\n",
      "  python310.lib(python310.dll) : error LNK2005: PyPickleBuffer_GetBuffer already defined in picklebufobject.obj\n",
      "     Creating library build\\temp.win-amd64-3.10\\Release\\pickle5\\_pickle.cp310-win_amd64.lib and object build\\temp.win-amd64-3.10\\Release\\pickle5\\_pickle.cp310-win_amd64.exp\n",
      "  build\\lib.win-amd64-3.10\\pickle5\\_pickle.cp310-win_amd64.pyd : fatal error LNK1169: one or more multiply defined symbols found\n",
      "  error: command 'C:\\\\Program Files\\\\Microsoft Visual Studio\\\\2022\\\\Community\\\\VC\\\\Tools\\\\MSVC\\\\14.37.32822\\\\bin\\\\HostX86\\\\x64\\\\link.exe' failed with exit code 1169\n",
      "  [end of output]\n",
      "  \n",
      "  note: This error originates from a subprocess, and is likely not a problem with pip.\n",
      "error: legacy-install-failure\n",
      "\n",
      "Encountered error while trying to install package.\n",
      "\n",
      "pickle5\n",
      "\n",
      "note: This is an issue with the package mentioned above, not pip.\n",
      "hint: See above for output from the failure.\n",
      "WARNING: You are using pip version 22.0.4; however, version 24.0 is available.\n",
      "You should consider upgrading via the 'D:\\psudo_desktop\\Master\\Sem 1\\Google-Quick-Draw\\run\\Scripts\\python.exe -m pip install --upgrade pip' command.\n"
     ]
    }
   ],
   "source": [
    "!pip install numpy\n",
    "!pip install scipy\n",
    "!pip install pandas\n",
    "!pip install scikit-learn\n",
    "!pip install tensorflow\n",
    "!pip install h5py\n",
    "!pip install torch\n",
    "!pip install pickle5"
   ]
  },
  {
   "cell_type": "code",
   "execution_count": null,
   "metadata": {
    "colab": {
     "base_uri": "https://localhost:8080/"
    },
    "id": "liV0xQG7GpA9",
    "outputId": "44940ca0-7ce7-4655-946a-e1e59975f691"
   },
   "outputs": [],
   "source": [
    "!pip egrep 'matplotlib|numpy|pandas|scikit-learn|tensorflow|torch'"
   ]
  },
  {
   "cell_type": "code",
   "execution_count": null,
   "metadata": {},
   "outputs": [],
   "source": [
    "# !pip uninstall keras\n",
    "!pip uninstall keras"
   ]
  },
  {
   "cell_type": "markdown",
   "metadata": {
    "id": "K-p5UtYbEc4x"
   },
   "source": [
    "# Imports"
   ]
  },
  {
   "cell_type": "code",
   "execution_count": 1,
   "metadata": {},
   "outputs": [],
   "source": [
    "import tensorflow as tf\n",
    "\n",
    "# import tensorflow.keras"
   ]
  },
  {
   "cell_type": "code",
   "execution_count": 2,
   "metadata": {
    "id": "Ttz_Tq3fEb24"
   },
   "outputs": [],
   "source": [
    "from tensorflow.keras import Sequential\n",
    "from tensorflow.keras.layers import (Conv2D, Activation, MaxPooling2D, Flatten, Dense)\n",
    "from sklearn.model_selection import train_test_split\n",
    "from tensorflow.keras import backend as K\n",
    "from sklearn.preprocessing import LabelBinarizer\n",
    "from sklearn.metrics import classification_report\n",
    "from tensorflow.keras.datasets import mnist\n",
    "from tensorflow.keras import layers\n",
    "import pickle\n",
    "import numpy as np\n",
    "from keras.utils.np_utils import to_categorical"
   ]
  },
  {
   "cell_type": "markdown",
   "metadata": {
    "id": "K0HSPLkrKQk2"
   },
   "source": [
    "# Dataset"
   ]
  },
  {
   "cell_type": "code",
   "execution_count": 3,
   "metadata": {},
   "outputs": [],
   "source": [
    "# gpus = tf.config.experimental.list_physical_devices('GPU')\n",
    "# print(gpus)\n",
    "# tf.config.experimental.set_visible_devices(gpus[0], 'GPU')\n",
    "# tf.config.experimental.set_memory_growth(gpus[0], True)"
   ]
  },
  {
   "cell_type": "code",
   "execution_count": 4,
   "metadata": {},
   "outputs": [
    {
     "name": "stdout",
     "output_type": "stream",
     "text": [
      "1 Physical GPUs, 1 Logical GPUs\n"
     ]
    }
   ],
   "source": [
    "gpus = tf.config.list_physical_devices('GPU')\n",
    "if gpus:\n",
    "  try:\n",
    "    # Currently, memory growth needs to be the same across GPUs\n",
    "    for gpu in gpus:\n",
    "      tf.config.experimental.set_memory_growth(gpu, True)\n",
    "    logical_gpus = tf.config.list_logical_devices('GPU')\n",
    "    print(len(gpus), \"Physical GPUs,\", len(logical_gpus), \"Logical GPUs\")\n",
    "  except RuntimeError as e:\n",
    "    # Memory growth must be set before GPUs have been initialized\n",
    "    print(e)"
   ]
  },
  {
   "cell_type": "markdown",
   "metadata": {
    "id": "KLLP5AE6K17L"
   },
   "source": [
    "## Loading data from pkl file"
   ]
  },
  {
   "cell_type": "code",
   "execution_count": 5,
   "metadata": {
    "id": "xZTdduauKTfO"
   },
   "outputs": [],
   "source": [
    "pkl = open('train100c5k_v2.pkl', 'rb')\n",
    "im = pickle.load(pkl)"
   ]
  },
  {
   "cell_type": "markdown",
   "metadata": {
    "id": "D7EyzDW0Ky09"
   },
   "source": [
    "## Preprocessing the data and creating training testing split"
   ]
  },
  {
   "cell_type": "code",
   "execution_count": 6,
   "metadata": {
    "colab": {
     "base_uri": "https://localhost:8080/"
    },
    "id": "xwJTTrwJKpGD",
    "outputId": "4cf0bfb7-16d3-4db3-ca54-8fbb5f7b05e0"
   },
   "outputs": [
    {
     "name": "stdout",
     "output_type": "stream",
     "text": [
      "data shape (475000, 28, 28, 1) (25000, 28, 28, 1)\n",
      "lable shape (475000, 100) (25000, 100)\n"
     ]
    }
   ],
   "source": [
    "data = im['data'].values\n",
    "lable = im['target'].values\n",
    "\n",
    "# print(lable.shape)\n",
    "\n",
    "data = [x for x in data]\n",
    "data = np.array(data)\n",
    "data = data.reshape(500000,28,28,1)\n",
    "\n",
    "label = LabelBinarizer()\n",
    "lable = label.fit_transform(lable)\n",
    "\n",
    "train_data, test_data, train_lable, test_lable = train_test_split(data, lable, test_size=0.05,random_state=420)\n",
    "\n",
    "# scaleing the data\n",
    "train_data = train_data / 255.0\n",
    "test_data = test_data / 255.0\n",
    "\n",
    "\n",
    "print(\"data shape\",train_data.shape,test_data.shape)\n",
    "print(\"lable shape\",train_lable.shape,test_lable.shape)\n"
   ]
  },
  {
   "cell_type": "markdown",
   "metadata": {
    "id": "GDM9-tKNKLUJ"
   },
   "source": [
    "# Classifier Model"
   ]
  },
  {
   "cell_type": "code",
   "execution_count": 7,
   "metadata": {
    "id": "RoNSec5sPpTC"
   },
   "outputs": [],
   "source": [
    "class Im_classfification:\n",
    "\n",
    "    def construct(width, height, depth, classes):\n",
    "        model = Sequential()\n",
    "        inputShape = (width, height, depth)\n",
    "\n",
    "        if K.image_data_format() == \"channels_first\":\n",
    "            inputShape = (depth, width, height)\n",
    "            print(inputShape)\n",
    "\n",
    "        # first set of convolution net\n",
    "        # print(inputShape,\"asdasdsad\")\n",
    "        model.add(Conv2D(32, (5,5), strides=(1, 1),padding=\"valid\", input_shape=inputShape))\n",
    "        model.add(layers.BatchNormalization())\n",
    "        model.add(Activation('relu'))\n",
    "        model.add(MaxPooling2D(pool_size=(2, 2), strides=(2, 2)))\n",
    "\n",
    "        # second set of convolution net\n",
    "        model.add(Conv2D(50, (5, 5), strides=(1, 1), padding=\"same\"))\n",
    "        model.add(layers.BatchNormalization())\n",
    "        model.add(Activation('relu'))\n",
    "        model.add(MaxPooling2D(pool_size=(2, 2), strides=(2, 2)))\n",
    "\n",
    "        # third layer of convolution net\n",
    "        model.add(Conv2D(64, (5, 5), strides=(1, 1), padding=\"valid\"))\n",
    "        model.add(layers.BatchNormalization())\n",
    "        model.add(Activation('relu'))\n",
    "        model.add(MaxPooling2D(pool_size=(2, 2), strides=(2, 2)))\n",
    "\n",
    "        # Fully connect layer\n",
    "        model.add(Flatten())\n",
    "        model.add(Dense(512))\n",
    "        model.add(layers.BatchNormalization())\n",
    "        model.add(Activation('relu'))\n",
    "        model.add(layers.Dropout(0.25))\n",
    "\n",
    "        # reduction the output\n",
    "        model.add(Dense(256))\n",
    "        model.add(layers.BatchNormalization())\n",
    "        model.add(Activation('relu'))\n",
    "        model.add(layers.Dropout(0.25))\n",
    "\n",
    "        # softmax classifier\n",
    "        model.add(Dense(classes))\n",
    "        model.add(Activation('softmax'))\n",
    "\n",
    "        return model\n"
   ]
  },
  {
   "cell_type": "markdown",
   "metadata": {
    "id": "kbxA2DJuLl5w"
   },
   "source": [
    "## Compiling the model"
   ]
  },
  {
   "cell_type": "code",
   "execution_count": 8,
   "metadata": {
    "colab": {
     "base_uri": "https://localhost:8080/"
    },
    "id": "tHT9XSzILlKX",
    "outputId": "18da93a8-bc1c-4fd4-96b4-7e536d3d3062"
   },
   "outputs": [
    {
     "name": "stdout",
     "output_type": "stream",
     "text": [
      "compiling model .......\n"
     ]
    }
   ],
   "source": [
    "print(\"compiling model .......\")\n",
    "model = Im_classfification.construct(28,28,1,100)\n",
    "# model = classifier.construct(28,28,1,100)\n",
    "model.compile(optimizer='adam', loss=\"categorical_crossentropy\",\n",
    "            metrics=[\"accuracy\"])"
   ]
  },
  {
   "cell_type": "markdown",
   "metadata": {
    "id": "GoHH1RSRLqAg"
   },
   "source": [
    "# Training the model"
   ]
  },
  {
   "cell_type": "code",
   "execution_count": null,
   "metadata": {
    "colab": {
     "base_uri": "https://localhost:8080/"
    },
    "id": "35rEn-FJLscR",
    "outputId": "6e13d866-3ec8-4fc8-9b20-47143e405c6f"
   },
   "outputs": [
    {
     "name": "stdout",
     "output_type": "stream",
     "text": [
      "Epoch 1/10\n"
     ]
    }
   ],
   "source": [
    "# print(\"training the network .......\")\n",
    "H = model.fit(train_data, train_lable, batch_size=512, epochs=10, verbose=1, validation_data=(test_data,test_lable))"
   ]
  },
  {
   "cell_type": "markdown",
   "metadata": {
    "id": "FlRxlVp1Lvwe"
   },
   "source": [
    "## Saving the Model for further utilization"
   ]
  },
  {
   "cell_type": "code",
   "execution_count": null,
   "metadata": {
    "colab": {
     "base_uri": "https://localhost:8080/"
    },
    "id": "Tikn26CTL1Sh",
    "outputId": "442f8d75-fc37-4c35-fb37-ae663e4bc809"
   },
   "outputs": [
    {
     "name": "stdout",
     "output_type": "stream",
     "text": [
      "saving the model ........\n"
     ]
    }
   ],
   "source": [
    "print(\"saving the model ........\")\n",
    "model.save(\"image_recogniation.h5\")"
   ]
  },
  {
   "cell_type": "code",
   "execution_count": null,
   "metadata": {
    "id": "RXe8wJ8kgke4"
   },
   "outputs": [],
   "source": [
    "from tensorflow.keras.models import load_model\n",
    "\n",
    "# Load the saved model\n",
    "model = load_model(\"image_recognition.h5\")\n",
    "\n",
    "# Print the model summary\n",
    "model.summary()"
   ]
  },
  {
   "cell_type": "code",
   "execution_count": null,
   "metadata": {
    "id": "U4I_b3MmgBD7"
   },
   "outputs": [],
   "source": [
    "# image_model = DenseNet121(weights='/content/drive/MyDrive/CheXNet_weights.h5', classes = 14, input_shape=(256,256,3))\n",
    "# model = Model(image_model.input, image_model.layers[-2].output)\n",
    "tf.keras.utils.plot_model(model, to_file='model_1_plot.png', show_shapes=True, show_layer_names=True)"
   ]
  },
  {
   "cell_type": "markdown",
   "metadata": {
    "id": "BoqeYU_dL5IO",
    "jp-MarkdownHeadingCollapsed": true
   },
   "source": [
    "## Model Evaluation"
   ]
  },
  {
   "cell_type": "code",
   "execution_count": null,
   "metadata": {
    "colab": {
     "base_uri": "https://localhost:8080/"
    },
    "id": "6eAl-U-2L7Bw",
    "outputId": "7feee8c7-469f-4bb0-8607-552905b2db1d"
   },
   "outputs": [
    {
     "name": "stdout",
     "output_type": "stream",
     "text": [
      "139/139 [==============================] - 1s 4ms/step\n",
      "              precision    recall  f1-score   support\n",
      "\n",
      "           0       0.63      0.83      0.72       249\n",
      "           1       0.85      0.88      0.87       258\n",
      "           2       0.70      0.68      0.69       252\n",
      "           3       0.81      0.84      0.83       264\n",
      "           4       0.80      0.75      0.77       248\n",
      "           5       0.70      0.75      0.73       233\n",
      "           6       0.76      0.70      0.73       264\n",
      "           7       0.49      0.33      0.40       238\n",
      "           8       0.76      0.79      0.78       245\n",
      "           9       0.42      0.43      0.43       230\n",
      "          10       0.58      0.59      0.58       252\n",
      "          11       0.57      0.59      0.58       254\n",
      "          12       0.71      0.78      0.74       246\n",
      "          13       0.83      0.81      0.82       239\n",
      "          14       0.87      0.89      0.88       230\n",
      "          15       0.90      0.87      0.89       248\n",
      "          16       0.80      0.83      0.82       244\n",
      "          17       0.30      0.51      0.38       280\n",
      "          18       0.82      0.79      0.80       222\n",
      "          19       0.74      0.57      0.64       263\n",
      "          20       0.68      0.60      0.64       231\n",
      "          21       0.72      0.82      0.77       235\n",
      "          22       0.54      0.56      0.55       238\n",
      "          23       0.71      0.73      0.72       236\n",
      "          24       0.69      0.69      0.69       241\n",
      "          25       0.47      0.35      0.41       251\n",
      "          26       0.67      0.66      0.67       239\n",
      "          27       0.34      0.35      0.34       257\n",
      "          28       0.60      0.45      0.51       233\n",
      "          29       0.65      0.67      0.66       248\n",
      "          30       0.85      0.86      0.85       235\n",
      "          31       0.77      0.79      0.78       258\n",
      "          32       0.82      0.84      0.83       274\n",
      "          33       0.55      0.47      0.50       257\n",
      "          34       0.90      0.78      0.84       250\n",
      "          35       0.86      0.81      0.84       247\n",
      "          36       0.63      0.71      0.67       268\n",
      "          37       0.84      0.87      0.85       243\n",
      "          38       0.78      0.76      0.77       242\n",
      "          39       0.69      0.75      0.72       266\n",
      "          40       0.71      0.83      0.77       244\n",
      "          41       0.93      0.92      0.92       272\n",
      "          42       0.68      0.71      0.69       253\n",
      "          43       0.85      0.78      0.82       275\n",
      "          44       0.83      0.66      0.74       271\n",
      "          45       0.85      0.78      0.81       267\n",
      "          46       0.50      0.38      0.43       221\n",
      "          47       0.60      0.44      0.51       261\n",
      "          48       0.77      0.75      0.76       243\n",
      "          49       0.58      0.62      0.60       243\n",
      "          50       0.49      0.53      0.50       259\n",
      "          51       0.73      0.75      0.74       249\n",
      "          52       0.86      0.83      0.85       242\n",
      "          53       0.85      0.86      0.85       269\n",
      "          54       0.82      0.71      0.76       271\n",
      "          55       0.76      0.67      0.71       244\n",
      "          56       0.82      0.86      0.84       246\n",
      "          57       0.61      0.63      0.62       254\n",
      "          58       0.62      0.56      0.59       242\n",
      "          59       0.75      0.81      0.78       263\n",
      "          60       0.73      0.85      0.78       233\n",
      "          61       0.46      0.68      0.55       250\n",
      "          62       0.65      0.69      0.67       250\n",
      "          63       0.73      0.80      0.77       269\n",
      "          64       0.63      0.69      0.66       269\n",
      "          65       0.79      0.90      0.84       246\n",
      "          66       0.52      0.63      0.57       218\n",
      "          67       0.66      0.70      0.68       244\n",
      "          68       0.73      0.76      0.75       255\n",
      "          69       0.40      0.37      0.39       256\n",
      "          70       0.79      0.79      0.79       230\n",
      "          71       0.64      0.63      0.64       243\n",
      "          72       0.79      0.72      0.75       238\n",
      "          73       0.77      0.83      0.80       250\n",
      "          74       0.86      0.68      0.76       275\n",
      "          75       0.70      0.72      0.71       242\n",
      "          76       0.71      0.74      0.72       254\n",
      "          77       0.79      0.77      0.78       228\n",
      "          78       0.85      0.74      0.79       254\n",
      "          79       0.79      0.91      0.85       261\n",
      "          80       0.65      0.79      0.71       252\n",
      "          81       0.74      0.75      0.75       236\n",
      "          82       0.79      0.76      0.77       242\n",
      "          83       0.70      0.84      0.77       264\n",
      "          84       0.77      0.72      0.74       281\n",
      "          85       0.59      0.58      0.59       248\n",
      "          86       0.85      0.84      0.84       244\n",
      "          87       0.58      0.50      0.54       250\n",
      "          88       0.69      0.71      0.70       236\n",
      "          89       0.68      0.73      0.70       250\n",
      "          90       0.94      0.86      0.89       249\n",
      "          91       0.95      0.90      0.92       255\n",
      "          92       0.60      0.31      0.41       254\n",
      "          93       0.90      0.93      0.91       242\n",
      "          94       0.91      0.79      0.85       265\n",
      "          95       0.73      0.64      0.68       272\n",
      "          96       0.72      0.75      0.73       235\n",
      "          97       0.88      0.87      0.88       234\n",
      "          98       0.96      0.92      0.94       278\n",
      "          99       0.71      0.70      0.71       251\n",
      "\n",
      "    accuracy                           0.71     25000\n",
      "   macro avg       0.72      0.71      0.71     25000\n",
      "weighted avg       0.72      0.71      0.71     25000\n",
      "\n"
     ]
    }
   ],
   "source": [
    "predictions = model.predict(test_data, batch_size=180)\n",
    "print(classification_report(test_lable.argmax(axis=1), predictions.argmax(axis=1)))"
   ]
  },
  {
   "cell_type": "code",
   "execution_count": null,
   "metadata": {
    "colab": {
     "base_uri": "https://localhost:8080/"
    },
    "id": "qs6xmXQSiOi8",
    "outputId": "3889826b-eb74-46b2-e178-aa645b16aaa5"
   },
   "outputs": [
    {
     "name": "stdout",
     "output_type": "stream",
     "text": [
      "2022-12-05 04:31:00.332201: I tensorflow/core/platform/cpu_feature_guard.cc:193] This TensorFlow binary is optimized with oneAPI Deep Neural Network Library (oneDNN) to use the following CPU instructions in performance-critical operations:  AVX2 AVX512F FMA\n",
      "To enable them in other operations, rebuild TensorFlow with the appropriate compiler flags.\n",
      "2022-12-05 04:31:06.078179: W tensorflow/compiler/xla/stream_executor/platform/default/dso_loader.cc:64] Could not load dynamic library 'libnvinfer.so.7'; dlerror: libnvinfer.so.7: cannot open shared object file: No such file or directory; LD_LIBRARY_PATH: /usr/lib64-nvidia\n",
      "2022-12-05 04:31:06.079082: W tensorflow/compiler/xla/stream_executor/platform/default/dso_loader.cc:64] Could not load dynamic library 'libnvinfer_plugin.so.7'; dlerror: libnvinfer_plugin.so.7: cannot open shared object file: No such file or directory; LD_LIBRARY_PATH: /usr/lib64-nvidia\n",
      "2022-12-05 04:31:06.079123: W tensorflow/compiler/tf2tensorrt/utils/py_utils.cc:38] TF-TRT Warning: Cannot dlopen some TensorRT libraries. If you would like to use Nvidia GPU with TensorRT, please make sure the missing libraries mentioned above are installed properly.\n",
      "2022-12-05 04:31:17.150862: W tensorflow/core/common_runtime/gpu/gpu_bfc_allocator.cc:42] Overriding orig_value setting because the TF_FORCE_GPU_ALLOW_GROWTH environment variable is set. Original config value was 0.\n",
      "3125/3125 [==============================] - 10s 2ms/step\n",
      "100000\n"
     ]
    }
   ],
   "source": [
    "!python /content/mini_project.py '/content/drive/MyDrive/Copy of train100c5k_v2.pkl' '/content/test100c5k_nolabel.pkl'"
   ]
  },
  {
   "cell_type": "markdown",
   "metadata": {
    "id": "PUYUm2YYU1rN",
    "jp-MarkdownHeadingCollapsed": true
   },
   "source": [
    "## Github Quick draw: https://github.com/googlecreativelab/quickdraw-dataset"
   ]
  }
 ],
 "metadata": {
  "accelerator": "GPU",
  "colab": {
   "provenance": []
  },
  "gpuClass": "standard",
  "kernelspec": {
   "display_name": "Python 3 (ipykernel)",
   "language": "python",
   "name": "python3"
  },
  "language_info": {
   "codemirror_mode": {
    "name": "ipython",
    "version": 3
   },
   "file_extension": ".py",
   "mimetype": "text/x-python",
   "name": "python",
   "nbconvert_exporter": "python",
   "pygments_lexer": "ipython3",
   "version": "3.10.4"
  }
 },
 "nbformat": 4,
 "nbformat_minor": 4
}
